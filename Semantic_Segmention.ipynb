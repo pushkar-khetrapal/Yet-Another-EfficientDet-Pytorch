{
  "nbformat": 4,
  "nbformat_minor": 0,
  "metadata": {
    "colab": {
      "name": "Semantic Segmention.ipynb",
      "provenance": [],
      "include_colab_link": true
    },
    "kernelspec": {
      "name": "python3",
      "display_name": "Python 3"
    }
  },
  "cells": [
    {
      "cell_type": "markdown",
      "metadata": {
        "id": "view-in-github",
        "colab_type": "text"
      },
      "source": [
        "<a href=\"https://colab.research.google.com/github/pushkar-khetrapal/Yet-Another-EfficientDet-Pytorch/blob/master/Semantic_Segmention.ipynb\" target=\"_parent\"><img src=\"https://colab.research.google.com/assets/colab-badge.svg\" alt=\"Open In Colab\"/></a>"
      ]
    },
    {
      "cell_type": "code",
      "metadata": {
        "id": "M3Bbz7cQ_qdN",
        "colab_type": "code",
        "colab": {
          "base_uri": "https://localhost:8080/",
          "height": 207
        },
        "outputId": "985f11ce-cbfe-4f6d-947c-f1a5be23cf90"
      },
      "source": [
        "!pip install git+https://github.com/mapillary/inplace_abn"
      ],
      "execution_count": null,
      "outputs": [
        {
          "output_type": "stream",
          "text": [
            "Collecting git+https://github.com/mapillary/inplace_abn\n",
            "  Cloning https://github.com/mapillary/inplace_abn to /tmp/pip-req-build-g7j8h66o\n",
            "  Running command git clone -q https://github.com/mapillary/inplace_abn /tmp/pip-req-build-g7j8h66o\n",
            "Building wheels for collected packages: inplace-abn\n",
            "  Building wheel for inplace-abn (setup.py) ... \u001b[?25l\u001b[?25hdone\n",
            "  Created wheel for inplace-abn: filename=inplace_abn-1.0.12-cp36-cp36m-linux_x86_64.whl size=3262983 sha256=dea1e1a7e90e75adf5c3ed51335b5b0bf75c343374f6d94cccea877cabea8b82\n",
            "  Stored in directory: /tmp/pip-ephem-wheel-cache-794mhfwk/wheels/fe/0b/49/1303ca37166cc1be8784e2367a172133634dcd864a9df0ab56\n",
            "Successfully built inplace-abn\n",
            "Installing collected packages: inplace-abn\n",
            "Successfully installed inplace-abn-1.0.12\n"
          ],
          "name": "stdout"
        }
      ]
    },
    {
      "cell_type": "code",
      "metadata": {
        "id": "NTd1Rt_YnreQ",
        "colab_type": "code",
        "colab": {
          "base_uri": "https://localhost:8080/",
          "height": 173
        },
        "outputId": "5e859912-923a-4b0e-b070-f1bc00f5f01f"
      },
      "source": [
        "!pip install pytorch-model-summary"
      ],
      "execution_count": null,
      "outputs": [
        {
          "output_type": "stream",
          "text": [
            "Collecting pytorch-model-summary\n",
            "  Downloading https://files.pythonhosted.org/packages/a0/de/f3548f3081045cfc4020fc297cc9db74839a6849da8a41b89c48a3307da7/pytorch_model_summary-0.1.1-py3-none-any.whl\n",
            "Requirement already satisfied: torch in /usr/local/lib/python3.6/dist-packages (from pytorch-model-summary) (1.5.1+cu101)\n",
            "Requirement already satisfied: tqdm in /usr/local/lib/python3.6/dist-packages (from pytorch-model-summary) (4.41.1)\n",
            "Requirement already satisfied: numpy in /usr/local/lib/python3.6/dist-packages (from pytorch-model-summary) (1.18.5)\n",
            "Requirement already satisfied: future in /usr/local/lib/python3.6/dist-packages (from torch->pytorch-model-summary) (0.16.0)\n",
            "Installing collected packages: pytorch-model-summary\n",
            "Successfully installed pytorch-model-summary-0.1.1\n"
          ],
          "name": "stdout"
        }
      ]
    },
    {
      "cell_type": "code",
      "metadata": {
        "id": "yjkButZin6fr",
        "colab_type": "code",
        "colab": {}
      },
      "source": [
        "import torch\n",
        "from inplace_abn.abn import InPlaceABN, InPlaceABNSync\n",
        "import torch.distributed as dist"
      ],
      "execution_count": null,
      "outputs": []
    },
    {
      "cell_type": "code",
      "metadata": {
        "id": "nlg7-mT7n_G1",
        "colab_type": "code",
        "colab": {
          "base_uri": "https://localhost:8080/",
          "height": 34
        },
        "outputId": "ceafd001-0f0a-47f6-95db-29239a46d084"
      },
      "source": [
        "## need to use iABNsync layer with leakyRelu\n",
        "import torch\n",
        "import torch.nn.functional as F\n",
        "import torch.distributed as distributed\n",
        "\n",
        "import math\n",
        "\n",
        "from torch import nn\n",
        "import torch.nn.functional as F\n",
        "\n",
        "\n",
        "class Conv2dStaticSamePadding(nn.Module):\n",
        "    \"\"\"\n",
        "    created by Zylo117\n",
        "    The real keras/tensorflow conv2d with same padding\n",
        "    \"\"\"\n",
        "\n",
        "    def __init__(self, in_channels, out_channels, kernel_size, stride=1, bias=True, groups=1, dilation=1, **kwargs):\n",
        "        super().__init__()\n",
        "        self.conv = nn.Conv2d(in_channels, out_channels, kernel_size, stride=stride,\n",
        "                              bias=bias, groups=groups, dilation = dilation)\n",
        "        self.stride = self.conv.stride\n",
        "        self.kernel_size = self.conv.kernel_size\n",
        "        self.dilation = self.conv.dilation\n",
        "\n",
        "        if isinstance(self.stride, int):\n",
        "            self.stride = [self.stride] * 2\n",
        "        elif len(self.stride) == 1:\n",
        "            self.stride = [self.stride[0]] * 2\n",
        "\n",
        "        if isinstance(self.kernel_size, int):\n",
        "            self.kernel_size = [self.kernel_size] * 2\n",
        "        elif len(self.kernel_size) == 1:\n",
        "            self.kernel_size = [self.kernel_size[0]] * 2\n",
        "\n",
        "    def forward(self, x):\n",
        "        h, w = x.shape[-2:]\n",
        "        \n",
        "        extra_h = (math.ceil(w / self.stride[1]) - 1) * self.stride[1] - w + self.kernel_size[1]\n",
        "        extra_v = (math.ceil(h / self.stride[0]) - 1) * self.stride[0] - h + self.kernel_size[0]\n",
        "        \n",
        "        left = extra_h // 2\n",
        "        right = extra_h - left\n",
        "        top = extra_v // 2\n",
        "        bottom = extra_v - top\n",
        "\n",
        "        x = F.pad(x, [left, right, top, bottom])\n",
        "\n",
        "        x = self.conv(x)\n",
        "        return x\n",
        "\n",
        "class SwishImplementation(torch.autograd.Function):\n",
        "    @staticmethod\n",
        "    def forward(ctx, i):\n",
        "        result = i * torch.sigmoid(i)\n",
        "        ctx.save_for_backward(i)\n",
        "        return result\n",
        "\n",
        "    @staticmethod\n",
        "    def backward(ctx, grad_output):\n",
        "        i = ctx.saved_variables[0]\n",
        "        sigmoid_i = torch.sigmoid(i)\n",
        "        return grad_output * (sigmoid_i * (1 + i * (1 - sigmoid_i)))\n",
        "\n",
        "\n",
        "class MemoryEfficientSwish(nn.Module):\n",
        "    def forward(self, x):\n",
        "        return SwishImplementation.apply(x)\n",
        "\n",
        "\n",
        "class Swish(nn.Module):\n",
        "    def forward(self, x):\n",
        "        return x * torch.sigmoid(x)\n",
        "\n",
        "\n",
        "\n",
        "\n",
        "class SeparableConvBlock(nn.Module):\n",
        "    \"\"\"\n",
        "    created by Zylo117\n",
        "    \"\"\"\n",
        "\n",
        "    def __init__(self, in_channels, out_channels=None, norm=True, activation=True, dilation = 1, onnx_export=False):\n",
        "        super(SeparableConvBlock, self).__init__()\n",
        "        if out_channels is None:\n",
        "            out_channels = in_channels\n",
        "\n",
        "        # Q: whether separate conv\n",
        "        #  share bias between depthwise_conv and pointwise_conv\n",
        "        #  or just pointwise_conv apply bias.\n",
        "        # A: Confirmed, just pointwise_conv applies bias, depthwise_conv has no bias.\n",
        "\n",
        "        self.depthwise_conv = Conv2dStaticSamePadding(in_channels, in_channels,\n",
        "                                                      kernel_size=3, stride=1, groups=in_channels, bias=False, dilation = dilation)\n",
        "        self.pointwise_conv = Conv2dStaticSamePadding(in_channels, out_channels, kernel_size=1, stride=1)\n",
        "\n",
        "        self.norm = norm\n",
        "        if self.norm:\n",
        "            # Warning: pytorch momentum is different from tensorflow's, momentum_pytorch = 1 - momentum_tensorflow\n",
        "            self.bn = nn.BatchNorm2d(num_features=out_channels, momentum=0.01, eps=1e-3)\n",
        "\n",
        "        self.activation = activation\n",
        "        if self.activation:\n",
        "            self.swish = MemoryEfficientSwish() if not onnx_export else Swish()\n",
        "\n",
        "    def forward(self, x):\n",
        "        x = self.depthwise_conv(x)\n",
        "        x = self.pointwise_conv(x)\n",
        "\n",
        "        if self.norm:\n",
        "            x = self.bn(x)\n",
        "\n",
        "        if self.activation:\n",
        "            x = self.swish(x)\n",
        "\n",
        "        return x\n",
        "\n",
        "\n",
        "# LSFE module\n",
        "class LSFE(nn.Module):\n",
        "    def __init__(self, ):\n",
        "        super(LSFE, self).__init__()\n",
        "        self.conv1 = SeparableConvBlock(64, 256)\n",
        "        self.conv2 = SeparableConvBlock(256, 256)\n",
        "        \n",
        "    def forward(self, x):\n",
        "        x = self.conv1(x)\n",
        "        x = self.conv2(x)\n",
        "\n",
        "        \n",
        "        return x\n",
        "lsfe = LSFE()\n",
        "lsfe.forward(torch.randn(1,64,128,256)).shape"
      ],
      "execution_count": 5,
      "outputs": [
        {
          "output_type": "execute_result",
          "data": {
            "text/plain": [
              "torch.Size([1, 256, 128, 256])"
            ]
          },
          "metadata": {
            "tags": []
          },
          "execution_count": 5
        }
      ]
    },
    {
      "cell_type": "code",
      "metadata": {
        "id": "46p8sf7XpQRT",
        "colab_type": "code",
        "colab": {
          "base_uri": "https://localhost:8080/",
          "height": 88
        },
        "outputId": "9f87ce2b-6658-4161-c809-03b976b6408b"
      },
      "source": [
        "# Mismatch Correction Module (MC)\n",
        "class CorrectionModule(nn.Module):\n",
        "    def __init__(self):\n",
        "        super(CorrectionModule, self).__init__()\n",
        "        self.conv1 = SeparableConvBlock(256, 256)\n",
        "        self.conv2 = SeparableConvBlock(256, 256)\n",
        "        self.up = nn.Upsample(scale_factor=2, mode='bilinear')\n",
        "        ## upsampling \n",
        "\n",
        "    def forward(self, x):\n",
        "        x = self.conv1(x)\n",
        "        x = self.conv2(x)\n",
        "        x = self.up(x)\n",
        "        return x\n",
        "\n",
        "cm = CorrectionModule()\n",
        "cm.forward(torch.randn(1,256,128,256)).shape"
      ],
      "execution_count": 6,
      "outputs": [
        {
          "output_type": "stream",
          "text": [
            "/usr/local/lib/python3.6/dist-packages/torch/nn/functional.py:3121: UserWarning: Default upsampling behavior when mode=bilinear is changed to align_corners=False since 0.4.0. Please specify align_corners=True if the old behavior is desired. See the documentation of nn.Upsample for details.\n",
            "  \"See the documentation of nn.Upsample for details.\".format(mode))\n"
          ],
          "name": "stderr"
        },
        {
          "output_type": "execute_result",
          "data": {
            "text/plain": [
              "torch.Size([1, 256, 256, 512])"
            ]
          },
          "metadata": {
            "tags": []
          },
          "execution_count": 6
        }
      ]
    },
    {
      "cell_type": "code",
      "metadata": {
        "id": "zOPp-bc5GjrW",
        "colab_type": "code",
        "colab": {
          "base_uri": "https://localhost:8080/",
          "height": 88
        },
        "outputId": "1cc274a7-8ed0-43ff-b377-d5b5efc5020c"
      },
      "source": [
        "# Dense Prediction Cells (DPC)\n",
        "class DPC(nn.Module):\n",
        "    def __init__(self, height, width, channels = 256):\n",
        "        super(DPC, self).__init__()\n",
        "\n",
        "        self.height = height\n",
        "        self.width = width\n",
        "\n",
        "        self.conv1 = SeparableConvBlock(256, 256, 3, dilation=(1, 6))\n",
        "        self.up1 = nn.Upsample((self.height, self.width), mode='bilinear')\n",
        "\n",
        "        self.conv2 = SeparableConvBlock(256, 256, 3, dilation=(1, 1))\n",
        "        self.up2 = nn.Upsample((self.height, self.width), mode='bilinear')\n",
        "\n",
        "        self.conv3 = SeparableConvBlock(256, 256, 3, dilation=(6, 21))\n",
        "        self.up3 = nn.Upsample((self.height, self.width), mode='bilinear')\n",
        "\n",
        "        self.up_tocalculate18x3 = nn.Upsample((36, 64), mode='bilinear')\n",
        "        self.conv4 = SeparableConvBlock(256, 256, 3, dilation=(18, 15))\n",
        "        self.up4 = nn.Upsample((self.height, self.width), mode='bilinear')\n",
        "\n",
        "        self.conv5 = SeparableConvBlock(256, 256, 3, dilation=(6,3))\n",
        "        self.up5 = nn.Upsample((self.height, self.width), mode='bilinear')\n",
        "\n",
        "        self.lastconv = nn.Conv2d(1280, 128, 1)\n",
        "\n",
        "    def forward(self, x):\n",
        "\n",
        "        x = self.conv1(x)\n",
        "        x1 = self.up1(x)\n",
        "        \n",
        "        x2 = self.conv2(x1)\n",
        "        x2 = self.up2(x2)  \n",
        "\n",
        "        x3 = self.conv3(x1)\n",
        "        x3 = self.up3(x3)\n",
        "\n",
        "        x4 = x1\n",
        "        if( self.height < 33 ):\n",
        "          x4 = self.up_tocalculate18x3(x4)\n",
        "        x4 = self.conv4(x4)\n",
        "        x4 = self.up4(x4)    \n",
        "\n",
        "        x5 = self.conv5(x4)\n",
        "        x5 = self.up5(x5)\n",
        "\n",
        "        cat = torch.cat(( x1, x2, x3, x4, x5), dim = 1)\n",
        "\n",
        "        cat = self.lastconv(cat)\n",
        "        \n",
        "\n",
        "        return cat\n",
        "\n",
        "dpc = DPC(128, 256)\n",
        "dpc.forward(torch.randn(1,256,64,64)).shape"
      ],
      "execution_count": 15,
      "outputs": [
        {
          "output_type": "stream",
          "text": [
            "/usr/local/lib/python3.6/dist-packages/torch/nn/functional.py:3121: UserWarning: Default upsampling behavior when mode=bilinear is changed to align_corners=False since 0.4.0. Please specify align_corners=True if the old behavior is desired. See the documentation of nn.Upsample for details.\n",
            "  \"See the documentation of nn.Upsample for details.\".format(mode))\n"
          ],
          "name": "stderr"
        },
        {
          "output_type": "execute_result",
          "data": {
            "text/plain": [
              "torch.Size([1, 128, 128, 256])"
            ]
          },
          "metadata": {
            "tags": []
          },
          "execution_count": 15
        }
      ]
    },
    {
      "cell_type": "code",
      "metadata": {
        "id": "gBDYQ3_XZsbS",
        "colab_type": "code",
        "colab": {
          "base_uri": "https://localhost:8080/",
          "height": 88
        },
        "outputId": "67745262-2d92-4f96-a568-b8d91db0e7a5"
      },
      "source": [
        "class SemanticHead(nn.Module):\n",
        "    def __init__(self):\n",
        "        super(SemanticHead, self).__init__()\n",
        "        self.dpcp32 = DPC(32, 64)\n",
        "        self.dpcp16 = DPC(64, 128)\n",
        "        self.lsfep8 = LSFE()\n",
        "        self.lsfep4 = LSFE()\n",
        "\n",
        "        self.up_p32 = nn.Upsample((64, 128), mode='bilinear')\n",
        "\n",
        "        self.mc1 = CorrectionModule()\n",
        "        self.mc2 = CorrectionModule()\n",
        "\n",
        "        self.up1 = nn.Upsample((256, 512), mode = 'bilinear')\n",
        "        self.up2 = nn.Upsample((256, 512), mode = 'bilinear')\n",
        "        self.up3 = nn.Upsample((256, 512), mode = 'bilinear')\n",
        "        \n",
        "        self.lastconv = nn.Conv2d(512, 512, 1) ####### NEED TO CHANGE OUTPUT CHANNELS\n",
        "        self.uplast = nn.Upsample((1024, 2048), mode = 'bilinear')\n",
        "    \n",
        "    \n",
        "    def forward(self, p32, p16, p8, p4):\n",
        "\n",
        "        d32 = self.dpcp32(p32)\n",
        "        d16 = self.dpcp16(p16)\n",
        "\n",
        "        lp8 = self.lsfep8(p8)\n",
        "        lp4 = self.lsfep4(p4)\n",
        "\n",
        "        up32 = self.up_p32(d32)\n",
        "        \n",
        "        add1 = torch.add(up32, d16)\n",
        "        \n",
        "        up16 = self.mc1(add1)\n",
        "        \n",
        "        add2 = torch.add(up16, lp8)\n",
        "        up8 = self.mc2(add2)\n",
        "        add3 = torch.add(up8, lp4) \n",
        "        \n",
        "        cat1 = self.up1(d32)\n",
        "        cat2 = self.up2(d16) \n",
        "        cat3 = self.up3(add2) \n",
        "\n",
        "        cat = torch.cat(( cat1, cat2, cat3, add3), dim = 1)\n",
        "\n",
        "        cat = self.lastconv(cat)\n",
        "\n",
        "        cat = self.uplast(cat)\n",
        "        \n",
        "        return cat\n",
        "sh = SemanticHead()\n",
        "sh.forward(torch.randn(1,256,32,64), torch.randn(1,256,64,128), torch.randn(1,256,128,256), torch.randn(1,256,256, 512)).shape"
      ],
      "execution_count": null,
      "outputs": [
        {
          "output_type": "stream",
          "text": [
            "/usr/local/lib/python3.6/dist-packages/torch/nn/functional.py:2973: UserWarning: Default upsampling behavior when mode=bilinear is changed to align_corners=False since 0.4.0. Please specify align_corners=True if the old behavior is desired. See the documentation of nn.Upsample for details.\n",
            "  \"See the documentation of nn.Upsample for details.\".format(mode))\n"
          ],
          "name": "stderr"
        },
        {
          "output_type": "execute_result",
          "data": {
            "text/plain": [
              "torch.Size([1, 512, 1024, 2048])"
            ]
          },
          "metadata": {
            "tags": []
          },
          "execution_count": 34
        }
      ]
    },
    {
      "cell_type": "code",
      "metadata": {
        "id": "QEJpMlhXZ0w8",
        "colab_type": "code",
        "colab": {
          "base_uri": "https://localhost:8080/",
          "height": 1000
        },
        "outputId": "b62f4261-442d-459e-9304-acc7bad2f49b"
      },
      "source": [
        "from pytorch_model_summary import summary\n",
        "print(summary(sh, torch.randn(1,256,32,64), torch.randn(1,256,64,128), torch.randn(1,256,128,256), torch.randn(1,256,256, 512),show_input=True, show_hierarchical=True))"
      ],
      "execution_count": null,
      "outputs": [
        {
          "output_type": "stream",
          "text": [
            "/usr/local/lib/python3.6/dist-packages/torch/nn/functional.py:2973: UserWarning: Default upsampling behavior when mode=bilinear is changed to align_corners=False since 0.4.0. Please specify align_corners=True if the old behavior is desired. See the documentation of nn.Upsample for details.\n",
            "  \"See the documentation of nn.Upsample for details.\".format(mode))\n"
          ],
          "name": "stderr"
        },
        {
          "output_type": "stream",
          "text": [
            "-----------------------------------------------------------------------------\n",
            "         Layer (type)            Input Shape         Param #     Tr. Param #\n",
            "=============================================================================\n",
            "                DPC-1       [1, 256, 32, 64]         505,728         505,728\n",
            "                DPC-2      [1, 256, 64, 128]         505,728         505,728\n",
            "               LSFE-3     [1, 256, 128, 256]          53,120          53,120\n",
            "               LSFE-4     [1, 256, 256, 512]          53,120          53,120\n",
            "           Upsample-5       [1, 128, 32, 64]               0               0\n",
            "   CorrectionModule-6      [1, 128, 64, 128]          35,584          35,584\n",
            "   CorrectionModule-7     [1, 128, 128, 256]          35,584          35,584\n",
            "           Upsample-8       [1, 128, 32, 64]               0               0\n",
            "           Upsample-9      [1, 128, 64, 128]               0               0\n",
            "          Upsample-10     [1, 128, 128, 256]               0               0\n",
            "            Conv2d-11     [1, 512, 256, 512]         262,656         262,656\n",
            "          Upsample-12     [1, 512, 256, 512]               0               0\n",
            "=============================================================================\n",
            "Total params: 1,451,520\n",
            "Trainable params: 1,451,520\n",
            "Non-trainable params: 0\n",
            "-----------------------------------------------------------------------------\n",
            "\n",
            "\n",
            "=========================================================== Hierarchical Summary ===========================================================\n",
            "\n",
            "SemanticHead(\n",
            "  (dpcp32): DPC(\n",
            "    (bn1): InPlaceABN(256, eps=1e-05, momentum=0.1, affine=True, activation=leaky_relu[0.01]), 512 params\n",
            "    (conv1): SeparableConv2d(\n",
            "      (conv1): Conv2d(256, 256, kernel_size=(3, 3), stride=(1, 1), padding=(1, 1), dilation=(1, 6), groups=256, bias=False), 2,304 params\n",
            "      (pointwise): Conv2d(256, 256, kernel_size=(1, 1), stride=(1, 1), bias=False), 65,536 params\n",
            "    ), 67,840 params\n",
            "    (up1): Upsample(size=(32, 64), mode=bilinear), 0 params\n",
            "    (bn2): InPlaceABN(256, eps=1e-05, momentum=0.1, affine=True, activation=leaky_relu[0.01]), 512 params\n",
            "    (conv2): SeparableConv2d(\n",
            "      (conv1): Conv2d(256, 256, kernel_size=(3, 3), stride=(1, 1), padding=(1, 1), groups=256, bias=False), 2,304 params\n",
            "      (pointwise): Conv2d(256, 256, kernel_size=(1, 1), stride=(1, 1), bias=False), 65,536 params\n",
            "    ), 67,840 params\n",
            "    (up2): Upsample(size=(32, 64), mode=bilinear), 0 params\n",
            "    (bn3): InPlaceABN(256, eps=1e-05, momentum=0.1, affine=True, activation=leaky_relu[0.01]), 512 params\n",
            "    (conv3): SeparableConv2d(\n",
            "      (conv1): Conv2d(256, 256, kernel_size=(3, 3), stride=(1, 1), padding=(1, 1), dilation=(6, 21), groups=256, bias=False), 2,304 params\n",
            "      (pointwise): Conv2d(256, 256, kernel_size=(1, 1), stride=(1, 1), bias=False), 65,536 params\n",
            "    ), 67,840 params\n",
            "    (up3): Upsample(size=(32, 64), mode=bilinear), 0 params\n",
            "    (bn4): InPlaceABN(256, eps=1e-05, momentum=0.1, affine=True, activation=leaky_relu[0.01]), 512 params\n",
            "    (up_tocalculate18x3): Upsample(size=(36, 64), mode=bilinear), 0 params\n",
            "    (conv4): SeparableConv2d(\n",
            "      (conv1): Conv2d(256, 256, kernel_size=(3, 3), stride=(1, 1), padding=(1, 1), dilation=(18, 15), groups=256, bias=False), 2,304 params\n",
            "      (pointwise): Conv2d(256, 256, kernel_size=(1, 1), stride=(1, 1), bias=False), 65,536 params\n",
            "    ), 67,840 params\n",
            "    (up4): Upsample(size=(32, 64), mode=bilinear), 0 params\n",
            "    (bn5): InPlaceABN(256, eps=1e-05, momentum=0.1, affine=True, activation=leaky_relu[0.01]), 512 params\n",
            "    (conv5): SeparableConv2d(\n",
            "      (conv1): Conv2d(256, 256, kernel_size=(3, 3), stride=(1, 1), padding=(1, 1), dilation=(6, 3), groups=256, bias=False), 2,304 params\n",
            "      (pointwise): Conv2d(256, 256, kernel_size=(1, 1), stride=(1, 1), bias=False), 65,536 params\n",
            "    ), 67,840 params\n",
            "    (up5): Upsample(size=(32, 64), mode=bilinear), 0 params\n",
            "    (lastconv): Conv2d(1280, 128, kernel_size=(1, 1), stride=(1, 1)), 163,968 params\n",
            "  ), 505,728 params\n",
            "  (dpcp16): DPC(\n",
            "    (bn1): InPlaceABN(256, eps=1e-05, momentum=0.1, affine=True, activation=leaky_relu[0.01]), 512 params\n",
            "    (conv1): SeparableConv2d(\n",
            "      (conv1): Conv2d(256, 256, kernel_size=(3, 3), stride=(1, 1), padding=(1, 1), dilation=(1, 6), groups=256, bias=False), 2,304 params\n",
            "      (pointwise): Conv2d(256, 256, kernel_size=(1, 1), stride=(1, 1), bias=False), 65,536 params\n",
            "    ), 67,840 params\n",
            "    (up1): Upsample(size=(64, 128), mode=bilinear), 0 params\n",
            "    (bn2): InPlaceABN(256, eps=1e-05, momentum=0.1, affine=True, activation=leaky_relu[0.01]), 512 params\n",
            "    (conv2): SeparableConv2d(\n",
            "      (conv1): Conv2d(256, 256, kernel_size=(3, 3), stride=(1, 1), padding=(1, 1), groups=256, bias=False), 2,304 params\n",
            "      (pointwise): Conv2d(256, 256, kernel_size=(1, 1), stride=(1, 1), bias=False), 65,536 params\n",
            "    ), 67,840 params\n",
            "    (up2): Upsample(size=(64, 128), mode=bilinear), 0 params\n",
            "    (bn3): InPlaceABN(256, eps=1e-05, momentum=0.1, affine=True, activation=leaky_relu[0.01]), 512 params\n",
            "    (conv3): SeparableConv2d(\n",
            "      (conv1): Conv2d(256, 256, kernel_size=(3, 3), stride=(1, 1), padding=(1, 1), dilation=(6, 21), groups=256, bias=False), 2,304 params\n",
            "      (pointwise): Conv2d(256, 256, kernel_size=(1, 1), stride=(1, 1), bias=False), 65,536 params\n",
            "    ), 67,840 params\n",
            "    (up3): Upsample(size=(64, 128), mode=bilinear), 0 params\n",
            "    (bn4): InPlaceABN(256, eps=1e-05, momentum=0.1, affine=True, activation=leaky_relu[0.01]), 512 params\n",
            "    (up_tocalculate18x3): Upsample(size=(36, 64), mode=bilinear), 0 params\n",
            "    (conv4): SeparableConv2d(\n",
            "      (conv1): Conv2d(256, 256, kernel_size=(3, 3), stride=(1, 1), padding=(1, 1), dilation=(18, 15), groups=256, bias=False), 2,304 params\n",
            "      (pointwise): Conv2d(256, 256, kernel_size=(1, 1), stride=(1, 1), bias=False), 65,536 params\n",
            "    ), 67,840 params\n",
            "    (up4): Upsample(size=(64, 128), mode=bilinear), 0 params\n",
            "    (bn5): InPlaceABN(256, eps=1e-05, momentum=0.1, affine=True, activation=leaky_relu[0.01]), 512 params\n",
            "    (conv5): SeparableConv2d(\n",
            "      (conv1): Conv2d(256, 256, kernel_size=(3, 3), stride=(1, 1), padding=(1, 1), dilation=(6, 3), groups=256, bias=False), 2,304 params\n",
            "      (pointwise): Conv2d(256, 256, kernel_size=(1, 1), stride=(1, 1), bias=False), 65,536 params\n",
            "    ), 67,840 params\n",
            "    (up5): Upsample(size=(64, 128), mode=bilinear), 0 params\n",
            "    (lastconv): Conv2d(1280, 128, kernel_size=(1, 1), stride=(1, 1)), 163,968 params\n",
            "  ), 505,728 params\n",
            "  (lsfep8): LSFE(\n",
            "    (conv1): SeparableConv2d(\n",
            "      (conv1): Conv2d(256, 256, kernel_size=(3, 3), stride=(1, 1), padding=(1, 1), groups=256, bias=False), 2,304 params\n",
            "      (pointwise): Conv2d(256, 128, kernel_size=(1, 1), stride=(1, 1), bias=False), 32,768 params\n",
            "    ), 35,072 params\n",
            "    (bn1): InPlaceABN(128, eps=1e-05, momentum=0.1, affine=True, activation=leaky_relu[0.01]), 256 params\n",
            "    (conv2): SeparableConv2d(\n",
            "      (conv1): Conv2d(128, 128, kernel_size=(3, 3), stride=(1, 1), padding=(1, 1), groups=128, bias=False), 1,152 params\n",
            "      (pointwise): Conv2d(128, 128, kernel_size=(1, 1), stride=(1, 1), bias=False), 16,384 params\n",
            "    ), 17,536 params\n",
            "    (bn2): InPlaceABN(128, eps=1e-05, momentum=0.1, affine=True, activation=leaky_relu[0.01]), 256 params\n",
            "  ), 53,120 params\n",
            "  (lsfep4): LSFE(\n",
            "    (conv1): SeparableConv2d(\n",
            "      (conv1): Conv2d(256, 256, kernel_size=(3, 3), stride=(1, 1), padding=(1, 1), groups=256, bias=False), 2,304 params\n",
            "      (pointwise): Conv2d(256, 128, kernel_size=(1, 1), stride=(1, 1), bias=False), 32,768 params\n",
            "    ), 35,072 params\n",
            "    (bn1): InPlaceABN(128, eps=1e-05, momentum=0.1, affine=True, activation=leaky_relu[0.01]), 256 params\n",
            "    (conv2): SeparableConv2d(\n",
            "      (conv1): Conv2d(128, 128, kernel_size=(3, 3), stride=(1, 1), padding=(1, 1), groups=128, bias=False), 1,152 params\n",
            "      (pointwise): Conv2d(128, 128, kernel_size=(1, 1), stride=(1, 1), bias=False), 16,384 params\n",
            "    ), 17,536 params\n",
            "    (bn2): InPlaceABN(128, eps=1e-05, momentum=0.1, affine=True, activation=leaky_relu[0.01]), 256 params\n",
            "  ), 53,120 params\n",
            "  (up_p32): Upsample(size=(64, 128), mode=bilinear), 0 params\n",
            "  (mc1): CorrectionModule(\n",
            "    (conv1): SeparableConv2d(\n",
            "      (conv1): Conv2d(128, 128, kernel_size=(3, 3), stride=(1, 1), padding=(1, 1), groups=128, bias=False), 1,152 params\n",
            "      (pointwise): Conv2d(128, 128, kernel_size=(1, 1), stride=(1, 1), bias=False), 16,384 params\n",
            "    ), 17,536 params\n",
            "    (bn1): InPlaceABN(128, eps=1e-05, momentum=0.1, affine=True, activation=leaky_relu[0.01]), 256 params\n",
            "    (conv2): SeparableConv2d(\n",
            "      (conv1): Conv2d(128, 128, kernel_size=(3, 3), stride=(1, 1), padding=(1, 1), groups=128, bias=False), 1,152 params\n",
            "      (pointwise): Conv2d(128, 128, kernel_size=(1, 1), stride=(1, 1), bias=False), 16,384 params\n",
            "    ), 17,536 params\n",
            "    (bn2): InPlaceABN(128, eps=1e-05, momentum=0.1, affine=True, activation=leaky_relu[0.01]), 256 params\n",
            "    (up): Upsample(scale_factor=2.0, mode=bilinear), 0 params\n",
            "  ), 35,584 params\n",
            "  (mc2): CorrectionModule(\n",
            "    (conv1): SeparableConv2d(\n",
            "      (conv1): Conv2d(128, 128, kernel_size=(3, 3), stride=(1, 1), padding=(1, 1), groups=128, bias=False), 1,152 params\n",
            "      (pointwise): Conv2d(128, 128, kernel_size=(1, 1), stride=(1, 1), bias=False), 16,384 params\n",
            "    ), 17,536 params\n",
            "    (bn1): InPlaceABN(128, eps=1e-05, momentum=0.1, affine=True, activation=leaky_relu[0.01]), 256 params\n",
            "    (conv2): SeparableConv2d(\n",
            "      (conv1): Conv2d(128, 128, kernel_size=(3, 3), stride=(1, 1), padding=(1, 1), groups=128, bias=False), 1,152 params\n",
            "      (pointwise): Conv2d(128, 128, kernel_size=(1, 1), stride=(1, 1), bias=False), 16,384 params\n",
            "    ), 17,536 params\n",
            "    (bn2): InPlaceABN(128, eps=1e-05, momentum=0.1, affine=True, activation=leaky_relu[0.01]), 256 params\n",
            "    (up): Upsample(scale_factor=2.0, mode=bilinear), 0 params\n",
            "  ), 35,584 params\n",
            "  (up1): Upsample(size=(256, 512), mode=bilinear), 0 params\n",
            "  (up2): Upsample(size=(256, 512), mode=bilinear), 0 params\n",
            "  (up3): Upsample(size=(256, 512), mode=bilinear), 0 params\n",
            "  (lastconv): Conv2d(512, 512, kernel_size=(1, 1), stride=(1, 1)), 262,656 params\n",
            "  (uplast): Upsample(size=(1024, 2048), mode=bilinear), 0 params\n",
            "), 1,451,520 params\n",
            "\n",
            "\n",
            "============================================================================================================================================\n",
            "\n"
          ],
          "name": "stdout"
        }
      ]
    }
  ]
}